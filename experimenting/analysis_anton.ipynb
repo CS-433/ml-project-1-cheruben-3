{
 "cells": [
  {
   "cell_type": "code",
   "execution_count": 43,
   "metadata": {},
   "outputs": [],
   "source": [
    "import os\n",
    "import numpy as np\n",
    "from matplotlib import pyplot as plt\n",
    "from helpers import load_data, standardize"
   ]
  },
  {
   "cell_type": "code",
   "execution_count": 13,
   "metadata": {
    "collapsed": true
   },
   "outputs": [
    {
     "name": "stdout",
     "output_type": "stream",
     "text": [
      "Successfully loaded the data\n"
     ]
    }
   ],
   "source": [
    "data_directory = '../data'\n",
    "train_dataset_path = os.path.join(data_directory, 'train.csv')\n",
    "\n",
    "ids, labels, feature_names, raw_features = load_data(train_dataset_path)\n",
    "print('Successfully loaded the data')"
   ]
  },
  {
   "cell_type": "code",
   "execution_count": 50,
   "metadata": {},
   "outputs": [],
   "source": [
    "n_features = 30\n",
    "der_feature_names = feature_names[:n_features]\n",
    "der_features = raw_features[:, :n_features]"
   ]
  },
  {
   "cell_type": "code",
   "execution_count": 54,
   "metadata": {},
   "outputs": [
    {
     "data": {
      "text/plain": [
       "<Figure size 640x480 with 0 Axes>"
      ]
     },
     "metadata": {},
     "output_type": "display_data"
    }
   ],
   "source": [
    "n_sample = 250000\n",
    "\n",
    "for i in range(n_features):\n",
    "    s = []\n",
    "    b = []\n",
    "\n",
    "    max_value = float(\"-inf\")\n",
    "    min_value = float(\"inf\")\n",
    "    \n",
    "    for j in range(n_sample):\n",
    "        data_point = raw_features[j, i]\n",
    "        \n",
    "        if data_point == -999:\n",
    "            continue\n",
    "\n",
    "        max_value = max(max_value, data_point)\n",
    "        min_value = min(min_value, data_point)\n",
    "\n",
    "        if labels[j] == \"s\":\n",
    "            s.append(data_point)\n",
    "        else:\n",
    "            b.append(data_point)\n",
    "\n",
    "    bins = np.linspace(min_value, max_value, 50)\n",
    "    plt.hist(s, bins, alpha=0.5, label='s')\n",
    "    plt.hist(b, bins, alpha=0.5, label='b')\n",
    "    plt.savefig(f'../visualizations/histograms/{der_feature_names[i]}-hist.png')\n",
    "    plt.clf()\n"
   ]
  }
 ],
 "metadata": {
  "kernelspec": {
   "display_name": "Python 3.8.8 ('base')",
   "language": "python",
   "name": "python3"
  },
  "language_info": {
   "codemirror_mode": {
    "name": "ipython",
    "version": 3
   },
   "file_extension": ".py",
   "mimetype": "text/x-python",
   "name": "python",
   "nbconvert_exporter": "python",
   "pygments_lexer": "ipython3",
   "version": "3.8.8"
  },
  "vscode": {
   "interpreter": {
    "hash": "40d3a090f54c6569ab1632332b64b2c03c39dcf918b08424e98f38b5ae0af88f"
   }
  }
 },
 "nbformat": 4,
 "nbformat_minor": 0
}
